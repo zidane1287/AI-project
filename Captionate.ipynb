{
 "cells": [
  {
   "cell_type": "markdown",
   "metadata": {},
   "source": [
    "# Import Libraries"
   ]
  },
  {
   "cell_type": "code",
   "execution_count": 84,
   "metadata": {},
   "outputs": [],
   "source": [
    "import warnings\n",
    "warnings.filterwarnings(action='ignore')\n",
    "\n",
    "import numpy as np\n",
    "from numpy import array\n",
    "import pandas as pd\n",
    "import matplotlib.pyplot as plt\n",
    "%matplotlib inline\n",
    "import string\n",
    "import os\n",
    "from PIL import Image\n",
    "import glob\n",
    "from pickle import dump, load\n",
    "from time import time\n",
    "from keras.preprocessing import sequence\n",
    "from keras.models import Sequential\n",
    "from keras.layers import LSTM, Embedding, TimeDistributed, Dense, RepeatVector,\\\n",
    "                         Activation, Flatten, Reshape, concatenate, Dropout, BatchNormalization\n",
    "from keras.optimizers import Adam, RMSprop\n",
    "from keras.layers.wrappers import Bidirectional\n",
    "from keras.layers.merge import add\n",
    "from keras.applications.inception_v3 import InceptionV3\n",
    "from keras.preprocessing import image\n",
    "from keras.models import Model\n",
    "from keras import Input, layers\n",
    "from keras import optimizers\n",
    "from keras.applications.inception_v3 import preprocess_input\n",
    "from keras.preprocessing.text import Tokenizer\n",
    "from keras.preprocessing.sequence import pad_sequences\n",
    "from keras.utils import to_categorical\n",
    "from keras.callbacks import ModelCheckpoint\n",
    "\n",
    "from os import listdir\n",
    "from collections import Counter\n"
   ]
  },
  {
   "cell_type": "markdown",
   "metadata": {},
   "source": [
    "# Load Captions"
   ]
  },
  {
   "cell_type": "code",
   "execution_count": 2,
   "metadata": {
    "scrolled": true
   },
   "outputs": [
    {
     "name": "stdout",
     "output_type": "stream",
     "text": [
      "1000268201_693b08cb0e.jpg#0\tA child in a pink dress is climbing up a set of stairs in an entry way .\n",
      "1000268201_693b08cb0e.jpg#1\tA girl going into a wooden building .\n",
      "1000268201_693b08cb0e.jpg#2\tA little girl climbing into a wooden playhouse .\n",
      "1000268201_693b08cb0e.jpg#3\tA little girl climbing the stairs to her playhouse .\n",
      "1000268201_693b08cb0e.jpg#4\tA little girl in a pink dress going into a wooden cabin .\n",
      "1001773457_577c3a7d70.jpg#0\tA black dog and a spotted dog are fighting\n",
      "1001773457_577c3a7d70.jpg#1\tA black dog and a tri-colored dog playing with each other on the road .\n",
      "1001773457_577c3a7d70.jpg#2\tA black dog and a white dog with brown spots are staring at each other in the street .\n",
      "1001773457_577c3a7d70.jpg#3\tTwo dogs of different breeds looking at each other on the road .\n",
      "1001773457_577c3a7d70.jpg#4\tTwo dogs on pavement moving toward each other .\n"
     ]
    }
   ],
   "source": [
    "def load_doc(filename):\n",
    "    with open(filename) as file:\n",
    "        text = file.readlines()\n",
    "        return text\n",
    "\n",
    "filename = \"Flickr8k_text/Flickr8k.token.txt\"\n",
    "text = load_doc(filename)\n",
    "for line in text[:10]:\n",
    "    print(line,end='')\n",
    "\n",
    "# every image has 5 captions"
   ]
  },
  {
   "cell_type": "markdown",
   "metadata": {},
   "source": [
    "# Mapping image with captions"
   ]
  },
  {
   "cell_type": "code",
   "execution_count": 3,
   "metadata": {},
   "outputs": [
    {
     "name": "stdout",
     "output_type": "stream",
     "text": [
      "A child in a pink dress is climbing up a set of stairs in an entry way .\n",
      "A girl going into a wooden building .\n",
      "A little girl climbing into a wooden playhouse .\n",
      "A little girl climbing the stairs to her playhouse .\n",
      "A little girl in a pink dress going into a wooden cabin .\n"
     ]
    }
   ],
   "source": [
    "def image_to_captions(text):\n",
    "    hash_map = {}\n",
    "    for line in text:\n",
    "        token = line.split()\n",
    "        image_id = token[0].split('.')[0] # separating with '.' to extract image id (removing .jpg)\n",
    "        image_caption = ' '.join(token[1: ])\n",
    "        \n",
    "        if(image_id not in hash_map):\n",
    "            hash_map[image_id] = [image_caption]\n",
    "        else:\n",
    "            hash_map[image_id].append(image_caption)\n",
    "        \n",
    "    return hash_map\n",
    "        \n",
    "\n",
    "map_img_to_captions = image_to_captions(text)\n",
    "print(*map_img_to_captions['1000268201_693b08cb0e'],sep='\\n')"
   ]
  },
  {
   "cell_type": "markdown",
   "metadata": {},
   "source": [
    "# Data Preprocessing"
   ]
  },
  {
   "cell_type": "code",
   "execution_count": 4,
   "metadata": {},
   "outputs": [
    {
     "data": {
      "text/plain": [
       "['child in pink dress is climbing up set of stairs in an entry way',\n",
       " 'girl going into wooden building',\n",
       " 'little girl climbing into wooden playhouse',\n",
       " 'little girl climbing the stairs to her playhouse',\n",
       " 'little girl in pink dress going into wooden cabin']"
      ]
     },
     "execution_count": 4,
     "metadata": {},
     "output_type": "execute_result"
    }
   ],
   "source": [
    "def preprocess(map_img_to_captions):\n",
    "    preprocessed_captions = []\n",
    "    for key in map_img_to_captions.keys():\n",
    "        for idx in range(len(map_img_to_captions[key])):\n",
    "            tokens = map_img_to_captions[key][idx].split()\n",
    "            tokens = [token.lower() for token in tokens if len(token)>1 if token.isalpha()]\n",
    "            map_img_to_captions[key][idx] = ' '.join(tokens)\n",
    "            \n",
    "    return map_img_to_captions\n",
    "\n",
    "\n",
    "preprocessed_map = preprocess(map_img_to_captions)\n",
    "preprocessed_map['1000268201_693b08cb0e']"
   ]
  },
  {
   "cell_type": "markdown",
   "metadata": {},
   "source": [
    "# Create vocabulary from captions"
   ]
  },
  {
   "cell_type": "code",
   "execution_count": 5,
   "metadata": {},
   "outputs": [
    {
     "name": "stdout",
     "output_type": "stream",
     "text": [
      "Vocabulary size 8357\n"
     ]
    }
   ],
   "source": [
    "def create_vocabulary(preprocessed_map):\n",
    "    vocabulary = set()\n",
    "    for img_captions in preprocessed_map.values(): # list of 5 captions for each image\n",
    "        for caption in img_captions:\n",
    "            for token in caption.split():\n",
    "                vocabulary.add(token)    \n",
    "    return vocabulary\n",
    "\n",
    "\n",
    "vocabulary = create_vocabulary(preprocessed_map)\n",
    "print('Vocabulary size',len(vocabulary))"
   ]
  },
  {
   "cell_type": "markdown",
   "metadata": {},
   "source": [
    "# Saving image id and preprocessed captions to new text file"
   ]
  },
  {
   "cell_type": "code",
   "execution_count": 6,
   "metadata": {},
   "outputs": [],
   "source": [
    "def save_captions(preprocessed_map,filename):\n",
    "    data = []\n",
    "    for image_id,image_captions in preprocessed_map.items():\n",
    "        for caption in image_captions:\n",
    "            data.append(image_id + ' ' + caption + '\\n')\n",
    "            \n",
    "    with open(filename,'w') as file:\n",
    "        for line in data:\n",
    "            file.write(line)\n",
    "\n",
    "save_captions(preprocessed_map,'preprocessed_captions.txt')"
   ]
  },
  {
   "cell_type": "markdown",
   "metadata": {},
   "source": [
    "# Load images (image name) of Train & Test Data"
   ]
  },
  {
   "cell_type": "code",
   "execution_count": 7,
   "metadata": {},
   "outputs": [
    {
     "name": "stdout",
     "output_type": "stream",
     "text": [
      "2513260012_03d33305cf\n",
      "2903617548_d3e38d7f88\n",
      "3338291921_fe7ae0c8f8\n",
      "488416045_1c6d903fe0\n",
      "2644326817_8f45080b87\n",
      "\n",
      "Number of images in train data 6000\n",
      "\n",
      "Number of images in train data 1000\n"
     ]
    }
   ],
   "source": [
    "def img_id_train(filename):\n",
    "    with open(filename) as file:\n",
    "        data = file.readlines()\n",
    "        train_img_name = []\n",
    "        for img_id in data:\n",
    "            train_img_name.append(img_id.split('.')[0])\n",
    "    return train_img_name    \n",
    "\n",
    "train_img_name = img_id_train('Flickr8k_text/Flickr_8k.trainImages.txt')\n",
    "test_img_name  = img_id_train('Flickr8k_text/Flickr_8k.testImages.txt')\n",
    "print(*train_img_name[:5],sep='\\n')\n",
    "print('\\nNumber of images in train data',len(train_img_name))\n",
    "print('\\nNumber of images in train data',len(test_img_name))"
   ]
  },
  {
   "cell_type": "code",
   "execution_count": 8,
   "metadata": {},
   "outputs": [
    {
     "data": {
      "text/plain": [
       "'2513260012_03d33305cf'"
      ]
     },
     "execution_count": 8,
     "metadata": {},
     "output_type": "execute_result"
    }
   ],
   "source": [
    "train_img_name[0]"
   ]
  },
  {
   "cell_type": "markdown",
   "metadata": {},
   "source": [
    "# Load pre-processed captions for Train data (add 'startseq' & 'endseq')"
   ]
  },
  {
   "cell_type": "code",
   "execution_count": 9,
   "metadata": {},
   "outputs": [
    {
     "name": "stdout",
     "output_type": "stream",
     "text": [
      "startseq child in pink dress is climbing up set of stairs in an entry way endseq\n",
      "startseq girl going into wooden building endseq\n",
      "startseq little girl climbing into wooden playhouse endseq\n",
      "startseq little girl climbing the stairs to her playhouse endseq\n",
      "startseq little girl in pink dress going into wooden cabin endseq\n"
     ]
    }
   ],
   "source": [
    "def load_captions_train(filename):\n",
    "    doc = load_doc(filename) \n",
    "    train_captions = {}    \n",
    "    \n",
    "    for line in doc:\n",
    "        tokens = line.split()\n",
    "        image_id, image_caption = tokens[0], tokens[1:]\n",
    "\n",
    "        if(image_id in train_img_name):\n",
    "            if(image_id not in train_captions):\n",
    "                train_captions[image_id] = []\n",
    "            \n",
    "            modified_caption = 'startseq ' + ' '.join(image_caption) + ' endseq'\n",
    "            train_captions[image_id].append(modified_caption)\n",
    "    \n",
    "    return train_captions\n",
    "\n",
    "\n",
    "train_captions = load_captions_train('preprocessed_captions.txt')\n",
    "print(*train_captions['1000268201_693b08cb0e'],sep='\\n')"
   ]
  },
  {
   "cell_type": "code",
   "execution_count": 10,
   "metadata": {},
   "outputs": [],
   "source": [
    "def preprocess_image(img_path):\n",
    "    img = image.load_img(img_path,target_size=(299,299)) \n",
    "    # type(img): PIL.Image.Image\n",
    "#     plt.figure(figsize=(12,6))\n",
    "#     plt.subplot(121)\n",
    "#     plt.imshow(img)\n",
    "#     plt.title('Original Image(Resized)')\n",
    "\n",
    "    img = image.img_to_array(img) # Converts PIL Image instance to numpy array (299,299,3)\n",
    "    img = np.expand_dims(img, axis=0) #Add one more dimension: (1, 299, 299, 3) # Inception-V3 requires 4 dimensions\n",
    "    img = preprocess_input(img) # preprocess image as per Inception-V3 model\n",
    "#     plt.subplot(122)\n",
    "#     plt.imshow(img[0])\n",
    "#     plt.title('Preprocessed image for Inception-V3')    \n",
    "    \n",
    "    return img  # shape: (1, 299, 299, 3)"
   ]
  },
  {
   "cell_type": "code",
   "execution_count": 11,
   "metadata": {},
   "outputs": [],
   "source": [
    "# Load Inception-V3 model\n",
    "model = InceptionV3(weights='imagenet')\n",
    "\n",
    "# Create new model, by removing last layer (output layer) from Inception-V3\n",
    "model_new = Model(inputs=model.input, outputs=model.layers[-2].output) # outputs=(second last layer output)\n",
    "\n",
    "# model.layers            list of layers\n",
    "# model.input             <tf.Tensor 'input_1:0' shape=(?, ?, ?, 3) dtype=float32>\n",
    "# model.layers[-1].output <tf.Tensor 'predictions/Softmax:0' shape=(?, 1000) dtype=float32> 1000 target classes\n",
    "# model.layers[-2].output <tf.Tensor 'avg_pool/Mean:0' shape=(?, 2048) dtype=float32>"
   ]
  },
  {
   "cell_type": "code",
   "execution_count": 12,
   "metadata": {},
   "outputs": [],
   "source": [
    "# from keras.utils import plot_model\n",
    "# plot_model(model, to_file='model.png')"
   ]
  },
  {
   "cell_type": "markdown",
   "metadata": {},
   "source": [
    "# All images names"
   ]
  },
  {
   "cell_type": "code",
   "execution_count": 13,
   "metadata": {},
   "outputs": [],
   "source": [
    "def images_name(path):\n",
    "    img_name = set([path+image for image in listdir(path)])\n",
    "    return img_name\n",
    "\n",
    "path = 'Flicker8k_Dataset/'\n",
    "all_images_name = images_name(path)\n",
    "train_img_name = [path+img+'.jpg' for img in train_img_name]\n",
    "test_img_name = [path+img+'.jpg' for img in test_img_name]"
   ]
  },
  {
   "cell_type": "markdown",
   "metadata": {},
   "source": [
    "# Encode images into feature vectors"
   ]
  },
  {
   "cell_type": "code",
   "execution_count": 15,
   "metadata": {},
   "outputs": [
    {
     "name": "stdout",
     "output_type": "stream",
     "text": [
      "Train images encoded  500\n",
      "Train images encoded  1000\n",
      "Train images encoded  1500\n",
      "Train images encoded  2000\n",
      "Train images encoded  2500\n",
      "Train images encoded  3000\n",
      "Train images encoded  3500\n",
      "Train images encoded  4000\n",
      "Train images encoded  4500\n",
      "Train images encoded  5000\n",
      "Train images encoded  5500\n",
      "Train images encoded  6000\n",
      "** Time taken for encoding train images 888.4454591274261 seconds **\n",
      "Test images encoded  200\n",
      "Test images encoded  400\n",
      "Test images encoded  600\n",
      "Test images encoded  800\n",
      "Test images encoded  1000\n",
      "** Time taken for encoding test images 139.03138494491577 seconds **\n"
     ]
    }
   ],
   "source": [
    "# Function to encode given image into a vector of size (2048, )\n",
    "def encode_image(image):\n",
    "    image = preprocess_image(image) # preprocess image\n",
    "    feature_vector = model_new.predict(image) # Get encoding vector for image\n",
    "    feature_vector = feature_vector.reshape(feature_vector.shape[1], ) # reshape from (1, 2048) to (2048, )\n",
    "    return feature_vector\n",
    "\n",
    "\n",
    "# To encode all train images\n",
    "start_train = time()\n",
    "encoding_train = {}\n",
    "for idx,img in enumerate(train_img_name):\n",
    "    if( (idx+1)%500 == 0):\n",
    "        print('Train images encoded ',idx+1)\n",
    "    encoding_train[img] = encode_image(img)\n",
    "print(\"** Time taken for encoding train images {} seconds **\".format(time()-start_train))\n",
    "\n",
    "\n",
    "# To encode all test images\n",
    "start_test = time()\n",
    "encoding_test = {}\n",
    "for idx,img in enumerate(test_img_name):\n",
    "    if( (idx+1)%200 == 0):\n",
    "        print('Test images encoded ',idx+1)\n",
    "    encoding_test[img] = encode_image(img)\n",
    "print(\"** Time taken for encoding test images {} seconds **\".format(time()-start_test))"
   ]
  },
  {
   "cell_type": "markdown",
   "metadata": {},
   "source": [
    "# Save the learned features "
   ]
  },
  {
   "cell_type": "code",
   "execution_count": 19,
   "metadata": {},
   "outputs": [],
   "source": [
    "# # Save the bottleneck train features to disk\n",
    "with open(\"encoded_train_images.pkl\", \"wb\") as encoded_pickle:\n",
    "    dump(encoding_train, encoded_pickle)\n",
    "    \n",
    "# # Save the bottleneck test features to disk\n",
    "with open(\"encoded_test_images.pkl\", \"wb\") as encoded_pickle:\n",
    "     dump(encoding_test, encoded_pickle)"
   ]
  },
  {
   "cell_type": "markdown",
   "metadata": {},
   "source": [
    "# All train captions (6000 x 5 = 30,000)"
   ]
  },
  {
   "cell_type": "code",
   "execution_count": 20,
   "metadata": {},
   "outputs": [
    {
     "name": "stdout",
     "output_type": "stream",
     "text": [
      "30000\n",
      "startseq child in pink dress is climbing up set of stairs in an entry way endseq\n",
      "startseq girl going into wooden building endseq\n",
      "startseq little girl climbing into wooden playhouse endseq\n",
      "startseq little girl climbing the stairs to her playhouse endseq\n",
      "startseq little girl in pink dress going into wooden cabin endseq\n",
      "startseq black dog and spotted dog are fighting endseq\n",
      "startseq black dog and dog playing with each other on the road endseq\n",
      "startseq black dog and white dog with brown spots are staring at each other in the street endseq\n",
      "startseq two dogs of different breeds looking at each other on the road endseq\n",
      "startseq two dogs on pavement moving toward each other endseq\n"
     ]
    }
   ],
   "source": [
    "train_features = load(open(\"encoded_train_images.pkl\", \"rb\"))\n",
    "\n",
    "# Create a list of all the training captions\n",
    "all_train_captions = []\n",
    "for captions in train_captions.values():\n",
    "    for caption in captions:\n",
    "        all_train_captions.append(caption)\n",
    "    \n",
    "print(len(all_train_captions))\n",
    "print(*all_train_captions[:10],sep='\\n')"
   ]
  },
  {
   "cell_type": "markdown",
   "metadata": {},
   "source": [
    "# Consider only those words which occur atleast 10 times in corpus"
   ]
  },
  {
   "cell_type": "code",
   "execution_count": 21,
   "metadata": {},
   "outputs": [
    {
     "name": "stdout",
     "output_type": "stream",
     "text": [
      "Number of original tokens 7265\n",
      "Number of tokens after threshold 1643\n"
     ]
    }
   ],
   "source": [
    "corpus = []\n",
    "for caption in all_train_captions:\n",
    "    for token in caption.split():\n",
    "        corpus.append(token)\n",
    "        \n",
    "hash_map = Counter(corpus)\n",
    "vocab = []\n",
    "for token,count in hash_map.items():\n",
    "    if(count>=10):\n",
    "        vocab.append(token)\n",
    "        \n",
    "print('Number of original tokens',len(hash_map))\n",
    "print('Number of tokens after threshold',len(vocab))"
   ]
  },
  {
   "cell_type": "markdown",
   "metadata": {},
   "source": [
    "# Mapping: Index to words & Word to index"
   ]
  },
  {
   "cell_type": "code",
   "execution_count": 22,
   "metadata": {},
   "outputs": [
    {
     "name": "stdout",
     "output_type": "stream",
     "text": [
      "1643\n"
     ]
    }
   ],
   "source": [
    "word_to_index = {}\n",
    "index_to_word = {}\n",
    "    \n",
    "for idx,token in enumerate(vocab):\n",
    "    word_to_index[token] = idx+1\n",
    "    index_to_word[idx+1] = token\n",
    "\n",
    "vocab_size = len(index_to_word) + 1 # one for appended 0's\n",
    "\n",
    "print(len(index_to_word))\n"
   ]
  },
  {
   "cell_type": "markdown",
   "metadata": {},
   "source": [
    "# Calculate max-length caption"
   ]
  },
  {
   "cell_type": "code",
   "execution_count": 23,
   "metadata": {},
   "outputs": [
    {
     "name": "stdout",
     "output_type": "stream",
     "text": [
      "Maximum length of caption=  33\n"
     ]
    }
   ],
   "source": [
    "def max_len_caption(all_train_captions):   \n",
    "    max_len = 0\n",
    "    for caption in all_train_captions:\n",
    "        max_len = max(max_len,len(caption.split()))\n",
    "    print('Maximum length of caption= ',max_len)\n",
    "    return max_len\n",
    "\n",
    "max_length_caption = max_len_caption(all_train_captions)"
   ]
  },
  {
   "cell_type": "markdown",
   "metadata": {},
   "source": [
    "# Data Preparation using Generator Function"
   ]
  },
  {
   "cell_type": "code",
   "execution_count": 24,
   "metadata": {},
   "outputs": [],
   "source": [
    "# data generator, intended to be used in a call to model.fit_generator()\n",
    "def data_generator(descriptions, photos, wordtoix, max_length, num_photos_per_batch):\n",
    "    X1, X2, y = list(), list(), list()\n",
    "    n=0\n",
    "    # loop for ever over images\n",
    "    while 1:\n",
    "        for key, desc_list in descriptions.items():\n",
    "            n+=1\n",
    "            # retrieve the photo feature\n",
    "            temp='Flickr8k_Dataset/Flicker8k_Dataset/'\n",
    "            \n",
    "            photo = photos[temp+key+'.jpg']\n",
    "            for desc in desc_list:\n",
    "                # encode the sequence\n",
    "                seq = [wordtoix[word] for word in desc.split(' ') if word in wordtoix]\n",
    "                # split one sequence into multiple X, y pairs\n",
    "                for i in range(1, len(seq)):\n",
    "                    # split into input and output pair\n",
    "                    in_seq, out_seq = seq[:i], seq[i]\n",
    "                    # pad input sequence\n",
    "                    in_seq = pad_sequences([in_seq], maxlen=max_length)[0]\n",
    "                    # encode output sequence\n",
    "                    out_seq = to_categorical([out_seq], num_classes=vocab_size)[0]\n",
    "                    # store\n",
    "                    X1.append(photo)\n",
    "                    X2.append(in_seq)\n",
    "                    y.append(out_seq)\n",
    "            # yield the batch data\n",
    "            if n==num_photos_per_batch:\n",
    "                yield [[array(X1), array(X2)], array(y)]\n",
    "                X1, X2, y = list(), list(), list()\n",
    "                n=0"
   ]
  },
  {
   "cell_type": "markdown",
   "metadata": {},
   "source": [
    "# Load GloVe vectors"
   ]
  },
  {
   "cell_type": "code",
   "execution_count": 26,
   "metadata": {},
   "outputs": [
    {
     "name": "stdout",
     "output_type": "stream",
     "text": [
      "Found 400000 word vectors.\n"
     ]
    }
   ],
   "source": [
    "embeddings_index = {} # empty dictionary\n",
    "f = open('glove.6B.200d.txt', encoding=\"utf-8\")\n",
    "\n",
    "for line in f:\n",
    "    values = line.split()\n",
    "    word = values[0]\n",
    "    coefs = np.asarray(values[1:], dtype='float32')\n",
    "    embeddings_index[word] = coefs\n",
    "f.close()\n",
    "print('Found %s word vectors.' % len(embeddings_index))"
   ]
  },
  {
   "cell_type": "code",
   "execution_count": 27,
   "metadata": {},
   "outputs": [
    {
     "data": {
      "text/plain": [
       "(1644, 200)"
      ]
     },
     "execution_count": 27,
     "metadata": {},
     "output_type": "execute_result"
    }
   ],
   "source": [
    "embedding_dim = 200\n",
    "\n",
    "# Get 200-dim dense vector for each of the 10000 words in out vocabulary\n",
    "embedding_matrix = np.zeros((vocab_size, embedding_dim))\n",
    "\n",
    "for word, i in word_to_index.items():\n",
    "    #if i < max_words:\n",
    "    embedding_vector = embeddings_index.get(word)\n",
    "    if embedding_vector is not None:\n",
    "        # Words not found in the embedding index will be all zeros\n",
    "        embedding_matrix[i] = embedding_vector\n",
    "        \n",
    "embedding_matrix.shape"
   ]
  },
  {
   "cell_type": "code",
   "execution_count": 28,
   "metadata": {},
   "outputs": [
    {
     "name": "stdout",
     "output_type": "stream",
     "text": [
      "Model: \"model_2\"\n",
      "__________________________________________________________________________________________________\n",
      "Layer (type)                    Output Shape         Param #     Connected to                     \n",
      "==================================================================================================\n",
      "input_3 (InputLayer)            (None, 33)           0                                            \n",
      "__________________________________________________________________________________________________\n",
      "input_2 (InputLayer)            (None, 2048)         0                                            \n",
      "__________________________________________________________________________________________________\n",
      "embedding_1 (Embedding)         (None, 33, 200)      328800      input_3[0][0]                    \n",
      "__________________________________________________________________________________________________\n",
      "dropout_1 (Dropout)             (None, 2048)         0           input_2[0][0]                    \n",
      "__________________________________________________________________________________________________\n",
      "dropout_2 (Dropout)             (None, 33, 200)      0           embedding_1[0][0]                \n",
      "__________________________________________________________________________________________________\n",
      "dense_1 (Dense)                 (None, 256)          524544      dropout_1[0][0]                  \n",
      "__________________________________________________________________________________________________\n",
      "lstm_1 (LSTM)                   (None, 256)          467968      dropout_2[0][0]                  \n",
      "__________________________________________________________________________________________________\n",
      "add_1 (Add)                     (None, 256)          0           dense_1[0][0]                    \n",
      "                                                                 lstm_1[0][0]                     \n",
      "__________________________________________________________________________________________________\n",
      "dense_2 (Dense)                 (None, 256)          65792       add_1[0][0]                      \n",
      "__________________________________________________________________________________________________\n",
      "dense_3 (Dense)                 (None, 1644)         422508      dense_2[0][0]                    \n",
      "==================================================================================================\n",
      "Total params: 1,809,612\n",
      "Trainable params: 1,809,612\n",
      "Non-trainable params: 0\n",
      "__________________________________________________________________________________________________\n"
     ]
    }
   ],
   "source": [
    "inputs1 = Input(shape=(2048,))\n",
    "fe1 = Dropout(0.5)(inputs1)\n",
    "fe2 = Dense(256, activation='relu')(fe1)\n",
    "inputs2 = Input(shape=(max_length_caption,))\n",
    "se1 = Embedding(vocab_size, embedding_dim, mask_zero=True)(inputs2)\n",
    "se2 = Dropout(0.5)(se1)\n",
    "se3 = LSTM(256)(se2)\n",
    "decoder1 = add([fe2, se3])\n",
    "decoder2 = Dense(256, activation='relu')(decoder1)\n",
    "outputs = Dense(vocab_size, activation='softmax')(decoder2)\n",
    "model = Model(inputs=[inputs1, inputs2], outputs=outputs)\n",
    "\n",
    "model.summary()"
   ]
  },
  {
   "cell_type": "code",
   "execution_count": 29,
   "metadata": {},
   "outputs": [
    {
     "data": {
      "image/png": "[encoded data removed]",
      "text/plain": [
       "<IPython.core.display.Image object>"
      ]
     },
     "execution_count": 29,
     "metadata": {},
     "output_type": "execute_result"
    }
   ],
   "source": [
    "from keras.utils import plot_model\n",
    "plot_model(model, to_file='model.png')"
   ]
  },
  {
   "cell_type": "code",
   "execution_count": 30,
   "metadata": {},
   "outputs": [
    {
     "name": "stdout",
     "output_type": "stream",
     "text": [
      "<keras.layers.embeddings.Embedding object at 0x000001F8A745DA08>\n"
     ]
    }
   ],
   "source": [
    "print(model.layers[2])\n",
    "\n",
    "model.layers[2].set_weights([embedding_matrix])\n",
    "model.layers[2].trainable = False"
   ]
  },
  {
   "cell_type": "code",
   "execution_count": 93,
   "metadata": {},
   "outputs": [],
   "source": [
    "import robust_loss_pytorch.general\n",
    "import keras.backend as K\n",
    "adaptive = robust_loss_pytorch.adaptive.AdaptiveLossFunction(num_dims = 2, float_dtype=np.float32, device='cpu')\n",
    "#loss = torch.mean(adaptive.lossfun((y_i - y)[:,None]) )"
   ]
  },
  {
   "cell_type": "code",
   "execution_count": 108,
   "metadata": {},
   "outputs": [],
   "source": [
    "# Define custom loss\n",
    "#def custom_loss(layer):\n",
    "\n",
    "    # Create a loss function that adds the MSE loss to the mean of all squared activations of a specific layer\n",
    "    #def loss(y_true,y_pred):\n",
    "        #return K.mean(K.square(y_pred - y_true) + K.square(layer), axis=-1)\n",
    "   \n",
    "    # Return a function\n",
    "    #return loss\n",
    "    "
   ]
  },
  {
   "cell_type": "code",
   "execution_count": 103,
   "metadata": {},
   "outputs": [
    {
     "ename": "TypeError",
     "evalue": "custom_loss() takes 1 positional argument but 2 were given",
     "output_type": "error",
     "traceback": [
      "\u001b[1;31m---------------------------------------------------------------------------\u001b[0m",
      "\u001b[1;31mTypeError\u001b[0m                                 Traceback (most recent call last)",
      "\u001b[1;32m<ipython-input-103-b31bc98d7a14>\u001b[0m in \u001b[0;36m<module>\u001b[1;34m\u001b[0m\n\u001b[1;32m----> 1\u001b[1;33m \u001b[0mmodel\u001b[0m\u001b[1;33m.\u001b[0m\u001b[0mcompile\u001b[0m\u001b[1;33m(\u001b[0m\u001b[0mloss\u001b[0m\u001b[1;33m=\u001b[0m\u001b[0mcustom_loss\u001b[0m\u001b[1;33m,\u001b[0m \u001b[0moptimizer\u001b[0m\u001b[1;33m=\u001b[0m\u001b[1;34m'adam'\u001b[0m\u001b[1;33m)\u001b[0m\u001b[1;33m\u001b[0m\u001b[1;33m\u001b[0m\u001b[0m\n\u001b[0m",
      "\u001b[1;32mc:\\users\\zidan\\appdata\\local\\programs\\python\\python37\\lib\\site-packages\\keras\\backend\\tensorflow_backend.py\u001b[0m in \u001b[0;36msymbolic_fn_wrapper\u001b[1;34m(*args, **kwargs)\u001b[0m\n\u001b[0;32m     73\u001b[0m         \u001b[1;32mif\u001b[0m \u001b[0m_SYMBOLIC_SCOPE\u001b[0m\u001b[1;33m.\u001b[0m\u001b[0mvalue\u001b[0m\u001b[1;33m:\u001b[0m\u001b[1;33m\u001b[0m\u001b[1;33m\u001b[0m\u001b[0m\n\u001b[0;32m     74\u001b[0m             \u001b[1;32mwith\u001b[0m \u001b[0mget_graph\u001b[0m\u001b[1;33m(\u001b[0m\u001b[1;33m)\u001b[0m\u001b[1;33m.\u001b[0m\u001b[0mas_default\u001b[0m\u001b[1;33m(\u001b[0m\u001b[1;33m)\u001b[0m\u001b[1;33m:\u001b[0m\u001b[1;33m\u001b[0m\u001b[1;33m\u001b[0m\u001b[0m\n\u001b[1;32m---> 75\u001b[1;33m                 \u001b[1;32mreturn\u001b[0m \u001b[0mfunc\u001b[0m\u001b[1;33m(\u001b[0m\u001b[1;33m*\u001b[0m\u001b[0margs\u001b[0m\u001b[1;33m,\u001b[0m \u001b[1;33m**\u001b[0m\u001b[0mkwargs\u001b[0m\u001b[1;33m)\u001b[0m\u001b[1;33m\u001b[0m\u001b[1;33m\u001b[0m\u001b[0m\n\u001b[0m\u001b[0;32m     76\u001b[0m         \u001b[1;32melse\u001b[0m\u001b[1;33m:\u001b[0m\u001b[1;33m\u001b[0m\u001b[1;33m\u001b[0m\u001b[0m\n\u001b[0;32m     77\u001b[0m             \u001b[1;32mreturn\u001b[0m \u001b[0mfunc\u001b[0m\u001b[1;33m(\u001b[0m\u001b[1;33m*\u001b[0m\u001b[0margs\u001b[0m\u001b[1;33m,\u001b[0m \u001b[1;33m**\u001b[0m\u001b[0mkwargs\u001b[0m\u001b[1;33m)\u001b[0m\u001b[1;33m\u001b[0m\u001b[1;33m\u001b[0m\u001b[0m\n",
      "\u001b[1;32mc:\\users\\zidan\\appdata\\local\\programs\\python\\python37\\lib\\site-packages\\keras\\engine\\training.py\u001b[0m in \u001b[0;36mcompile\u001b[1;34m(self, optimizer, loss, metrics, loss_weights, sample_weight_mode, weighted_metrics, target_tensors, **kwargs)\u001b[0m\n\u001b[0;32m    227\u001b[0m         \u001b[1;31m#                   loss_weight_2 * output_2_loss_fn(...) +\u001b[0m\u001b[1;33m\u001b[0m\u001b[1;33m\u001b[0m\u001b[1;33m\u001b[0m\u001b[0m\n\u001b[0;32m    228\u001b[0m         \u001b[1;31m#                   layer losses.\u001b[0m\u001b[1;33m\u001b[0m\u001b[1;33m\u001b[0m\u001b[1;33m\u001b[0m\u001b[0m\n\u001b[1;32m--> 229\u001b[1;33m         \u001b[0mself\u001b[0m\u001b[1;33m.\u001b[0m\u001b[0mtotal_loss\u001b[0m \u001b[1;33m=\u001b[0m \u001b[0mself\u001b[0m\u001b[1;33m.\u001b[0m\u001b[0m_prepare_total_loss\u001b[0m\u001b[1;33m(\u001b[0m\u001b[0mmasks\u001b[0m\u001b[1;33m)\u001b[0m\u001b[1;33m\u001b[0m\u001b[1;33m\u001b[0m\u001b[0m\n\u001b[0m\u001b[0;32m    230\u001b[0m \u001b[1;33m\u001b[0m\u001b[0m\n\u001b[0;32m    231\u001b[0m         \u001b[1;31m# Functions for train, test and predict will\u001b[0m\u001b[1;33m\u001b[0m\u001b[1;33m\u001b[0m\u001b[1;33m\u001b[0m\u001b[0m\n",
      "\u001b[1;32mc:\\users\\zidan\\appdata\\local\\programs\\python\\python37\\lib\\site-packages\\keras\\engine\\training.py\u001b[0m in \u001b[0;36m_prepare_total_loss\u001b[1;34m(self, masks)\u001b[0m\n\u001b[0;32m    690\u001b[0m \u001b[1;33m\u001b[0m\u001b[0m\n\u001b[0;32m    691\u001b[0m                     output_loss = loss_fn(\n\u001b[1;32m--> 692\u001b[1;33m                         y_true, y_pred, sample_weight=sample_weight)\n\u001b[0m\u001b[0;32m    693\u001b[0m \u001b[1;33m\u001b[0m\u001b[0m\n\u001b[0;32m    694\u001b[0m                 \u001b[1;32mif\u001b[0m \u001b[0mlen\u001b[0m\u001b[1;33m(\u001b[0m\u001b[0mself\u001b[0m\u001b[1;33m.\u001b[0m\u001b[0moutputs\u001b[0m\u001b[1;33m)\u001b[0m \u001b[1;33m>\u001b[0m \u001b[1;36m1\u001b[0m\u001b[1;33m:\u001b[0m\u001b[1;33m\u001b[0m\u001b[1;33m\u001b[0m\u001b[0m\n",
      "\u001b[1;32mc:\\users\\zidan\\appdata\\local\\programs\\python\\python37\\lib\\site-packages\\keras\\losses.py\u001b[0m in \u001b[0;36m__call__\u001b[1;34m(self, y_true, y_pred, sample_weight)\u001b[0m\n\u001b[0;32m     69\u001b[0m         \u001b[0mscope_name\u001b[0m \u001b[1;33m=\u001b[0m \u001b[1;34m'lambda'\u001b[0m \u001b[1;32mif\u001b[0m \u001b[0mself\u001b[0m\u001b[1;33m.\u001b[0m\u001b[0mname\u001b[0m \u001b[1;33m==\u001b[0m \u001b[1;34m'<lambda>'\u001b[0m \u001b[1;32melse\u001b[0m \u001b[0mself\u001b[0m\u001b[1;33m.\u001b[0m\u001b[0mname\u001b[0m\u001b[1;33m\u001b[0m\u001b[1;33m\u001b[0m\u001b[0m\n\u001b[0;32m     70\u001b[0m         \u001b[1;32mwith\u001b[0m \u001b[0mK\u001b[0m\u001b[1;33m.\u001b[0m\u001b[0mname_scope\u001b[0m\u001b[1;33m(\u001b[0m\u001b[0mscope_name\u001b[0m\u001b[1;33m)\u001b[0m\u001b[1;33m:\u001b[0m\u001b[1;33m\u001b[0m\u001b[1;33m\u001b[0m\u001b[0m\n\u001b[1;32m---> 71\u001b[1;33m             \u001b[0mlosses\u001b[0m \u001b[1;33m=\u001b[0m \u001b[0mself\u001b[0m\u001b[1;33m.\u001b[0m\u001b[0mcall\u001b[0m\u001b[1;33m(\u001b[0m\u001b[0my_true\u001b[0m\u001b[1;33m,\u001b[0m \u001b[0my_pred\u001b[0m\u001b[1;33m)\u001b[0m\u001b[1;33m\u001b[0m\u001b[1;33m\u001b[0m\u001b[0m\n\u001b[0m\u001b[0;32m     72\u001b[0m             return losses_utils.compute_weighted_loss(\n\u001b[0;32m     73\u001b[0m                 losses, sample_weight, reduction=self.reduction)\n",
      "\u001b[1;32mc:\\users\\zidan\\appdata\\local\\programs\\python\\python37\\lib\\site-packages\\keras\\losses.py\u001b[0m in \u001b[0;36mcall\u001b[1;34m(self, y_true, y_pred)\u001b[0m\n\u001b[0;32m    130\u001b[0m             \u001b[0mLoss\u001b[0m \u001b[0mvalues\u001b[0m \u001b[0mper\u001b[0m \u001b[0msample\u001b[0m\u001b[1;33m.\u001b[0m\u001b[1;33m\u001b[0m\u001b[1;33m\u001b[0m\u001b[0m\n\u001b[0;32m    131\u001b[0m         \"\"\"\n\u001b[1;32m--> 132\u001b[1;33m         \u001b[1;32mreturn\u001b[0m \u001b[0mself\u001b[0m\u001b[1;33m.\u001b[0m\u001b[0mfn\u001b[0m\u001b[1;33m(\u001b[0m\u001b[0my_true\u001b[0m\u001b[1;33m,\u001b[0m \u001b[0my_pred\u001b[0m\u001b[1;33m,\u001b[0m \u001b[1;33m**\u001b[0m\u001b[0mself\u001b[0m\u001b[1;33m.\u001b[0m\u001b[0m_fn_kwargs\u001b[0m\u001b[1;33m)\u001b[0m\u001b[1;33m\u001b[0m\u001b[1;33m\u001b[0m\u001b[0m\n\u001b[0m\u001b[0;32m    133\u001b[0m \u001b[1;33m\u001b[0m\u001b[0m\n\u001b[0;32m    134\u001b[0m     \u001b[1;32mdef\u001b[0m \u001b[0mget_config\u001b[0m\u001b[1;33m(\u001b[0m\u001b[0mself\u001b[0m\u001b[1;33m)\u001b[0m\u001b[1;33m:\u001b[0m\u001b[1;33m\u001b[0m\u001b[1;33m\u001b[0m\u001b[0m\n",
      "\u001b[1;31mTypeError\u001b[0m: custom_loss() takes 1 positional argument but 2 were given"
     ]
    }
   ],
   "source": [
    "model.compile(loss=custom_loss, optimizer='adam')"
   ]
  },
  {
   "cell_type": "code",
   "execution_count": null,
   "metadata": {},
   "outputs": [],
   "source": [
    "epochs = 10\n",
    "number_pics_per_bath = 3\n",
    "steps = len(train_captions)//number_pics_per_bath"
   ]
  },
  {
   "cell_type": "code",
   "execution_count": null,
   "metadata": {},
   "outputs": [],
   "source": [
    "temp='Flickr8k_Dataset/Flicker8k_Dataset/'\n",
    "temp"
   ]
  },
  {
   "cell_type": "code",
   "execution_count": null,
   "metadata": {},
   "outputs": [],
   "source": [
    "# for i in range(epochs):\n",
    "#     generator = data_generator(train_captions, train_features, word_to_index, max_length_caption, number_pics_per_bath)\n",
    "#     model.fit_generator(generator, epochs=1, steps_per_epoch=steps, verbose=1)\n",
    "#     model.save('./model_weights/model_' + str(i) + '.h5')\n",
    "Image.open('training_1.PNG')    "
   ]
  },
  {
   "cell_type": "code",
   "execution_count": null,
   "metadata": {},
   "outputs": [],
   "source": [
    "# for i in range(epochs):\n",
    "#     generator = data_generator(train_captions, train_features, word_to_index, max_length_caption, number_pics_per_bath)\n",
    "#     model.fit_generator(generator, epochs=1, steps_per_epoch=steps, verbose=1)\n",
    "#     model.save('./model_weights/model_' + str(i) + '.h5')\n",
    "Image.open('training_2.PNG')  "
   ]
  },
  {
   "cell_type": "code",
   "execution_count": null,
   "metadata": {},
   "outputs": [],
   "source": [
    "model.optimizer.lr = 0.0001\n",
    "epochs = 10\n",
    "number_pics_per_bath = 6\n",
    "steps = len(train_captions)//number_pics_per_bath\n",
    "\n",
    "# for i in range(epochs):\n",
    "#     generator = data_generator(train_captions, train_features, word_to_index, max_length_caption, number_pics_per_bath)\n",
    "#     model.fit_generator(generator, epochs=1, steps_per_epoch=steps, verbose=1)\n",
    "#     #model.save('./model_weights/model_' + str(i) + '.h5')\n",
    "\n",
    "Image.open('training_3.PNG')"
   ]
  },
  {
   "cell_type": "code",
   "execution_count": null,
   "metadata": {},
   "outputs": [],
   "source": [
    "# model.save_weights('./model_weights/model_30.h5')\n",
    "# model.load_weights('./model_weights/model_30.h5')\n",
    "\n",
    "images = 'Flicker8k_Dataset/'\n",
    "with open(\"encoded_test_images.pkl\", \"rb\") as encoded_pickle:\n",
    "    encoding_test = load(encoded_pickle)\n",
    "    \n",
    "def greedySearch(photo):\n",
    "    in_text = 'startseq'\n",
    "    for i in range(max_length):\n",
    "        sequence = [wordtoix[w] for w in in_text.split() if w in wordtoix]\n",
    "        sequence = pad_sequences([sequence], maxlen=max_length)\n",
    "        yhat = model.predict([photo,sequence], verbose=0)\n",
    "        yhat = np.argmax(yhat)\n",
    "        word = ixtoword[yhat]\n",
    "        in_text += ' ' + word\n",
    "        if word == 'endseq':\n",
    "            break\n",
    "    final = in_text.split()\n",
    "    final = final[1:-1]\n",
    "    final = ' '.join(final)\n",
    "    return final"
   ]
  },
  {
   "cell_type": "code",
   "execution_count": null,
   "metadata": {},
   "outputs": [],
   "source": [
    "# z+=1\n",
    "# pic = list(encoding_test.keys())[z]\n",
    "# image = encoding_test[pic].reshape((1,2048))\n",
    "# x=plt.imread(images+pic)\n",
    "# plt.imshow(x)\n",
    "# plt.show()\n",
    "# print(\"Greedy:\",greedySearch(image))\n",
    "\n",
    "Image.open('inference.PNG')"
   ]
  },
  {
   "cell_type": "code",
   "execution_count": null,
   "metadata": {},
   "outputs": [],
   "source": [
    "# if __name__=='__main__':\n",
    "    \n",
    "#     # load all captions \n",
    "#     text = load_doc(\"Flickr8k_text/Flickr8k.token.txt\") # list\n",
    "#     for line in text[:10]:\n",
    "#         print(line,end='')\n",
    "    \n",
    "#     # map image to captions in dictionary \n",
    "#     map_img_to_captions = image_to_captions(text) # dictionary (key:img name) (value-list of 5 captions)\n",
    "#     print(*map_img_to_captions['1000268201_693b08cb0e'],sep='\\n')\n",
    "    \n",
    "#     # preprocess captions\n",
    "#     preprocessed_map = preprocess(map_img_to_captions) # dictionary (key:img name) (value-list of 5 preprocessed-captions)\n",
    "#     print(preprocessed_map['1000268201_693b08cb0e'])\n",
    "\n",
    "#     # prepare vocabulary from captions\n",
    "#     vocabulary = create_vocabulary(preprocessed_map) # list\n",
    "#     print('Vocabulary size',len(vocabulary))\n",
    "    \n",
    "#     # save image name with preprocessed captions in a new text file\n",
    "#     filename = 'preprocessed_captions.txt'\n",
    "#     save_captions(preprocessed_map,filename)\n",
    "#     print('Saved image names with preprocessed captions in {}'.format(filename))\n",
    "    \n",
    "    \n",
    "#     # load image name for train & test data\n",
    "#     train_img_name = img_id_train('Flickr8k_text/Flickr_8k.trainImages.txt') # list\n",
    "#     test_img_name  = img_id_train('Flickr8k_text/Flickr_8k.testImages.txt')  # list \n",
    "#     print('\\nNumber of images in train data',len(train_img_name)) \n",
    "#     print('\\nNumber of images in train data',len(test_img_name))\n",
    "    \n",
    "#     # load captions for train data and 'start_seq' and 'end_seq' in starting and end of each caption respectively\n",
    "#     train_captions = load_captions_train('preprocessed_captions.txt')\n",
    "#     print(*train_captions['1000268201_693b08cb0e'],sep='\\n')\n",
    "    \n",
    "    \n",
    "#     # image names for complete, train and test data\n",
    "#     path = 'Flickr8k_Dataset/Flicker8k_Dataset/'\n",
    "#     all_images_name = images_name(path)\n",
    "#     train_img_name = [path+img+'.jpg' for img in train_img_name]\n",
    "#     test_img_name = [path+img+'.jpg' for img in test_img_name]\n",
    "    \n",
    "    \n",
    "#     # Load Inception-V3 model\n",
    "#     model = InceptionV3(weights='imagenet')\n",
    "#     # Create new model, by removing last layer (output layer) from Inception-V3\n",
    "#     model_new = Model(inputs=model.input, outputs=model.layers[-2].output) # outputs=(second last layer output)\n",
    "    \n",
    "    \n",
    "# #     # encode all train images\n",
    "# #     start_train = time()\n",
    "# #     encoding_train = {}\n",
    "# #     for idx,img in enumerate(train_img_name):\n",
    "# #         if( (idx+1)%500 == 0):\n",
    "# #             print('Train images encoded ',idx+1)\n",
    "# #         encoding_train[img] = encode_image(img)\n",
    "# #     print(\"** Time taken for encoding train images {} seconds **\".format(time()-start_train))\n",
    "\n",
    "\n",
    "# #     # encode all test images\n",
    "# #     start_test = time()\n",
    "# #     encoding_test = {}\n",
    "# #     for idx,img in enumerate(test_img_name):\n",
    "# #         if( (idx+1)%200 == 0):\n",
    "# #             print('Test images encoded ',idx+1)\n",
    "# #         encoding_test[img] = encode_image(img)\n",
    "# #     print(\"** Time taken for encoding test images {} seconds **\".format(time()-start_test))\n",
    "    \n",
    "    \n",
    "# # Save the bottleneck train features to disk\n",
    "# #     with open(\"encoded_train_images.pkl\", \"wb\") as encoded_pickle:\n",
    "# #         dump(encoding_train, encoded_pickle)\n",
    "\n",
    "# # Save the bottleneck test features to disk\n",
    "# #     with open(\"encoded_test_images.pkl\", \"wb\") as encoded_pickle:\n",
    "# #         dump(encoding_test, encoded_pickle)\n",
    "\n",
    "\n",
    "    "
   ]
  },
  {
   "cell_type": "code",
   "execution_count": null,
   "metadata": {},
   "outputs": [],
   "source": []
  }
 ],
 "metadata": {
  "kernelspec": {
   "display_name": "Python 3",
   "language": "python",
   "name": "python3"
  },
  "language_info": {
   "codemirror_mode": {
    "name": "ipython",
    "version": 3
   },
   "file_extension": ".py",
   "mimetype": "text/x-python",
   "name": "python",
   "nbconvert_exporter": "python",
   "pygments_lexer": "ipython3",
   "version": "3.7.7"
  }
 },
 "nbformat": 4,
 "nbformat_minor": 4
}
